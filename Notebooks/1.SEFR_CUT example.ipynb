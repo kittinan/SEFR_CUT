{
 "cells": [
  {
   "cell_type": "code",
   "execution_count": 1,
   "metadata": {
    "scrolled": true
   },
   "outputs": [],
   "source": [
    "import sefr_cut"
   ]
  },
  {
   "cell_type": "markdown",
   "metadata": {},
   "source": [
    "# Load Model"
   ]
  },
  {
   "cell_type": "code",
   "execution_count": 2,
   "metadata": {},
   "outputs": [
    {
     "name": "stdout",
     "output_type": "stream",
     "text": [
      "loading model.....\n",
      "Success\n"
     ]
    }
   ],
   "source": [
    "'''\n",
    "Engine : \n",
    "    SEFR Cut model\n",
    "        - ws1000 train on Wisesight1000\n",
    "        - tnhc train on TNHC (train:80/test:20)\n",
    "    DeepCut\n",
    "        - deepcut original deepcut train from BEST corpus\n",
    "    Transfer Learning DeepCut\n",
    "        - tl-deepcut-ws1000\n",
    "        - tl-deepcut-tnhc\n",
    "'''\n",
    "sefr_cut.load_model(engine='tnhc')"
   ]
  },
  {
   "cell_type": "markdown",
   "metadata": {},
   "source": [
    "# Tokenize"
   ]
  },
  {
   "cell_type": "code",
   "execution_count": 3,
   "metadata": {},
   "outputs": [
    {
     "name": "stdout",
     "output_type": "stream",
     "text": [
      "[['สวัสดี', 'พ่อ', 'แม่', 'พี่', 'น้อง', 'ชาว', 'ไทย'], ['วัน', 'นี้', 'คุณ', 'ยิ้ม', 'แล้ว', 'หรือ', 'ยัง', '?']]\n",
      "[['สวัสดี', 'พ่อ', 'แม่', 'พี่', 'น้อง', 'ชาว', 'ไทย']]\n",
      "[['สวัสดี', 'พ่อ', 'แม่', 'พี่', 'น้อง', 'ชาว', 'ไทย']]\n"
     ]
    }
   ],
   "source": [
    "print(sefr_cut.tokenize(['สวัสดีพ่อแม่พี่น้องชาวไทย','วันนี้คุณยิ้มแล้วหรือยัง?']))\n",
    "print(sefr_cut.tokenize(['สวัสดีพ่อแม่พี่น้องชาวไทย']))\n",
    "print(sefr_cut.tokenize('สวัสดีพ่อแม่พี่น้องชาวไทย'))"
   ]
  },
  {
   "cell_type": "markdown",
   "metadata": {},
   "source": [
    "## You can do with a vary of $k$ value"
   ]
  },
  {
   "cell_type": "code",
   "execution_count": 4,
   "metadata": {},
   "outputs": [
    {
     "name": "stdout",
     "output_type": "stream",
     "text": [
      "[['สวัสดี', 'พ่อแม่พี่น้อง', 'ชาว', 'ไทย'], ['วัน', 'นี้', 'คุณ', 'ยิ้ม', 'แล้ว', 'หรือ', 'ยัง', '?']]\n",
      "[['สวัสดี', 'พ่อแม่', 'พี่น้อง', 'ชาว', 'ไทย'], ['วัน', 'นี้', 'คุณ', 'ยิ้ม', 'แล้ว', 'หรือ', 'ยัง', '?']]\n"
     ]
    }
   ],
   "source": [
    "print(sefr_cut.tokenize(['สวัสดีพ่อแม่พี่น้องชาวไทย','วันนี้คุณยิ้มแล้วหรือยัง?'],k=1)) # refine only 1% of character number\n",
    "print(sefr_cut.tokenize(['สวัสดีพ่อแม่พี่น้องชาวไทย','วันนี้คุณยิ้มแล้วหรือยัง?'],k=100)) # refine 100% of character number"
   ]
  },
  {
   "cell_type": "markdown",
   "metadata": {},
   "source": [
    "# We also provide evaluation method in our paper for you!"
   ]
  },
  {
   "cell_type": "markdown",
   "metadata": {},
   "source": [
    "### You can do with raw text, list, 2d list"
   ]
  },
  {
   "cell_type": "code",
   "execution_count": 5,
   "metadata": {},
   "outputs": [
    {
     "name": "stdout",
     "output_type": "stream",
     "text": [
      "Word Score: 0.4 Char Score: 0.8\n"
     ]
    }
   ],
   "source": [
    "answer = 'สวัสดี|ประเทศไทย'\n",
    "pred = 'สวัสดี|ประเทศ|ไทย'\n",
    "char_score,word_score = sefr_cut.evaluation(answer,pred)\n",
    "print(f'Word Score: {word_score} Char Score: {char_score}')"
   ]
  },
  {
   "cell_type": "code",
   "execution_count": 6,
   "metadata": {},
   "outputs": [
    {
     "name": "stdout",
     "output_type": "stream",
     "text": [
      "Word Score: 0.4 Char Score: 0.8\n"
     ]
    }
   ],
   "source": [
    "answer = ['สวัสดี|ประเทศไทย']\n",
    "pred = ['สวัสดี|ประเทศ|ไทย']\n",
    "char_score,word_score = sefr_cut.evaluation(answer,pred)\n",
    "print(f'Word Score: {word_score} Char Score: {char_score}')"
   ]
  },
  {
   "cell_type": "code",
   "execution_count": 7,
   "metadata": {
    "scrolled": true
   },
   "outputs": [
    {
     "name": "stdout",
     "output_type": "stream",
     "text": [
      "Word Score: 0.4 Char Score: 0.8\n"
     ]
    }
   ],
   "source": [
    "answer = [['สวัสดี|'],['ประเทศไทย']] # ->'สวัสดี|ประเทศไทย'\n",
    "pred = [['สวัสดี|'],['ประเทศ|ไทย']] # -> 'สวัสดี|ประเทศ|ไทย'\n",
    "char_score,word_score = sefr_cut.evaluation(answer,pred)\n",
    "print(f'Word Score: {word_score} Char Score: {char_score}')"
   ]
  },
  {
   "cell_type": "markdown",
   "metadata": {},
   "source": [
    "## But some of a segmenter didn't have '|' at the end of the sentence, so you can use evaluation(sep='|')"
   ]
  },
  {
   "cell_type": "code",
   "execution_count": 8,
   "metadata": {},
   "outputs": [
    {
     "name": "stdout",
     "output_type": "stream",
     "text": [
      "Word Score: 0.4 Char Score: 0.8\n"
     ]
    }
   ],
   "source": [
    "answer = [['สวัสดี'],['ประเทศไทย']] # ->'สวัสดี|ประเทศไทย'\n",
    "pred = [['สวัสดี'],['ประเทศ|ไทย']] # -> 'สวัสดี|ประเทศ|ไทย'\n",
    "char_score,word_score = sefr_cut.evaluation(answer,pred,sep='|')\n",
    "print(f'Word Score: {word_score} Char Score: {char_score}')"
   ]
  },
  {
   "cell_type": "markdown",
   "metadata": {},
   "source": [
    "# Comparison between DeepCut,TL-DeepCut-ws1000, and Our method (ws1000)"
   ]
  },
  {
   "cell_type": "markdown",
   "metadata": {},
   "source": [
    "### Example 1."
   ]
  },
  {
   "cell_type": "code",
   "execution_count": 9,
   "metadata": {},
   "outputs": [],
   "source": [
    "answer = '''ขี้เกียจ|ไป|ยืม|รถ|พี่| |พี่|แม่ง|ขับ|เทียน่า| |คัน|ใหญ่|เกิ๊นนนนนนน| |ที่|เหลือ||ก็มี|แต่|คัน|ใหญ่|ๆ| |ขับ|ไม่|ถนัด| |5555''' "
   ]
  },
  {
   "cell_type": "code",
   "execution_count": 10,
   "metadata": {},
   "outputs": [
    {
     "name": "stdout",
     "output_type": "stream",
     "text": [
      "loading model.....\n",
      "Success\n",
      "WS1000: Word Score: 0.8813559322033899 Char Score: 0.9655172413793104\n"
     ]
    }
   ],
   "source": [
    "sefr_cut.load_model(engine='ws1000')\n",
    "pred = '|'.join(sefr_cut.tokenize(answer.replace('|',''))[0]) # Predict with our method\n",
    "char_score,word_score = sefr_cut.evaluation(answer,pred)\n",
    "print(f'WS1000: Word Score: {word_score} Char Score: {char_score}')"
   ]
  },
  {
   "cell_type": "code",
   "execution_count": 11,
   "metadata": {},
   "outputs": [
    {
     "name": "stdout",
     "output_type": "stream",
     "text": [
      "loading model.....\n",
      "Success\n",
      "TL: Word Score: 0.9310344827586207 Char Score: 0.9824561403508771\n"
     ]
    }
   ],
   "source": [
    "sefr_cut.load_model(engine='tl-deepcut-ws1000')\n",
    "pred = '|'.join(sefr_cut.tokenize(answer.replace('|',''))[0]) # Predict with our method\n",
    "char_score,word_score = sefr_cut.evaluation(answer,pred)\n",
    "print(f'TL: Word Score: {word_score} Char Score: {char_score}')"
   ]
  },
  {
   "cell_type": "code",
   "execution_count": 12,
   "metadata": {},
   "outputs": [
    {
     "name": "stdout",
     "output_type": "stream",
     "text": [
      "loading model.....\n",
      "Success\n",
      "DeepCut: Word Score: 0.8333333333333334 Char Score: 0.9491525423728813\n"
     ]
    }
   ],
   "source": [
    "sefr_cut.load_model(engine='deepcut')\n",
    "pred = '|'.join(sefr_cut.tokenize(answer.replace('|',''))[0]) # Predict with our method\n",
    "char_score,word_score = sefr_cut.evaluation(answer,pred)\n",
    "print(f'DeepCut: Word Score: {word_score} Char Score: {char_score}')"
   ]
  },
  {
   "cell_type": "markdown",
   "metadata": {},
   "source": [
    "### Example 2."
   ]
  },
  {
   "cell_type": "code",
   "execution_count": 13,
   "metadata": {},
   "outputs": [],
   "source": [
    "answer = '''แพง|เว่อร์| |เบียร์|ช้าง|ต้นทุน|ขวด|ละ|ไม่|ถึง| |50| |ขาย| |120| |😰|😰|😰์''' "
   ]
  },
  {
   "cell_type": "code",
   "execution_count": 14,
   "metadata": {},
   "outputs": [
    {
     "name": "stdout",
     "output_type": "stream",
     "text": [
      "loading model.....\n",
      "Success\n",
      "WS1000: Word Score: 0.9268292682926829 Char Score: 0.975609756097561\n"
     ]
    }
   ],
   "source": [
    "sefr_cut.load_model(engine='ws1000')\n",
    "pred = '|'.join(sefr_cut.tokenize(answer.replace('|',''))[0]) # Predict with our method\n",
    "char_score,word_score = sefr_cut.evaluation(answer,pred)\n",
    "print(f'WS1000: Word Score: {word_score} Char Score: {char_score}')"
   ]
  },
  {
   "cell_type": "code",
   "execution_count": 15,
   "metadata": {},
   "outputs": [
    {
     "name": "stdout",
     "output_type": "stream",
     "text": [
      "loading model.....\n",
      "Success\n",
      "TL: Word Score: 0.8421052631578948 Char Score: 0.9473684210526316\n"
     ]
    }
   ],
   "source": [
    "sefr_cut.load_model(engine='tl-deepcut-ws1000')\n",
    "pred = '|'.join(sefr_cut.tokenize(answer.replace('|',''))[0]) # Predict with our method\n",
    "char_score,word_score = sefr_cut.evaluation(answer,pred)\n",
    "print(f'TL: Word Score: {word_score} Char Score: {char_score}')"
   ]
  },
  {
   "cell_type": "code",
   "execution_count": 16,
   "metadata": {},
   "outputs": [
    {
     "name": "stdout",
     "output_type": "stream",
     "text": [
      "loading model.....\n",
      "Success\n",
      "DeepCut: Word Score: 0.85 Char Score: 0.9500000000000001\n"
     ]
    }
   ],
   "source": [
    "sefr_cut.load_model(engine='deepcut')\n",
    "pred = '|'.join(sefr_cut.tokenize(answer.replace('|',''))[0]) # Predict with our method\n",
    "char_score,word_score = sefr_cut.evaluation(answer,pred)\n",
    "print(f'DeepCut: Word Score: {word_score} Char Score: {char_score}')"
   ]
  },
  {
   "cell_type": "code",
   "execution_count": null,
   "metadata": {},
   "outputs": [],
   "source": []
  }
 ],
 "metadata": {
  "kernelspec": {
   "display_name": "Python 3",
   "language": "python",
   "name": "python3"
  },
  "language_info": {
   "codemirror_mode": {
    "name": "ipython",
    "version": 3
   },
   "file_extension": ".py",
   "mimetype": "text/x-python",
   "name": "python",
   "nbconvert_exporter": "python",
   "pygments_lexer": "ipython3",
   "version": "3.6.8"
  }
 },
 "nbformat": 4,
 "nbformat_minor": 2
}
