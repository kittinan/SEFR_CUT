{
 "cells": [
  {
   "cell_type": "code",
   "execution_count": 1,
   "metadata": {
    "scrolled": true
   },
   "outputs": [],
   "source": [
    "import sefr_cut"
   ]
  },
  {
   "cell_type": "code",
   "execution_count": 2,
   "metadata": {},
   "outputs": [
    {
     "name": "stdout",
     "output_type": "stream",
     "text": [
      "loading model.....\n",
      "Success\n"
     ]
    }
   ],
   "source": [
    "'''\n",
    "Engine : \n",
    "    SEFR Cut model\n",
    "        - ws1000 train on Wisesight1000\n",
    "        - tnhc train on TNHC (train:80/test:20)\n",
    "    DeepCut\n",
    "        - deepcut original deepcut train from BEST corpus\n",
    "    Transfer Learning DeepCut\n",
    "        - tl-deepcut-ws1000\n",
    "        - tl-deepcut-tnhc\n",
    "'''\n",
    "SEFR_CUT.load_model(engine='ws1000')"
   ]
  },
  {
   "cell_type": "code",
   "execution_count": 3,
   "metadata": {},
   "outputs": [
    {
     "name": "stdout",
     "output_type": "stream",
     "text": [
      "[['สวัสดี', 'ประเทศ', 'ไทย'], ['ลุง', 'ตู่', 'สู้', 'ๆ']]\n",
      "[['สวัสดี', 'ประเทศ', 'ไทย']]\n",
      "[['สวัสดี', 'ประเทศ', 'ไทย']]\n"
     ]
    }
   ],
   "source": [
    "print(sefr_cut.tokenize(['สวัสดีประเทศไทย','ลุงตู่สู้ๆ']))\n",
    "print(sefr_cut.tokenize(['สวัสดีประเทศไทย']))\n",
    "print(sefr_cut.tokenize('สวัสดีประเทศไทย'))"
   ]
  },
  {
   "cell_type": "code",
   "execution_count": 8,
   "metadata": {},
   "outputs": [
    {
     "name": "stdout",
     "output_type": "stream",
     "text": [
      "[['สวัสดี', 'ประเทศไทย'], ['ลุงตู่', 'สู้', 'ๆ']]\n",
      "[['สวัสดี', 'ประเทศ', 'ไทย'], ['ลุง', 'ตู่', 'สู้', 'ๆ']]\n"
     ]
    }
   ],
   "source": [
    "print(sefr_cut.tokenize(['สวัสดีประเทศไทย','ลุงตู่สู้ๆ'],k=5)) # refine only 5% of character number\n",
    "print(sefr_cut.tokenize(['สวัสดีประเทศไทย','ลุงตู่สู้ๆ'],k=100)) # refine 100% of character number"
   ]
  }
 ],
 "metadata": {
  "kernelspec": {
   "display_name": "Python 3",
   "language": "python",
   "name": "python3"
  },
  "language_info": {
   "codemirror_mode": {
    "name": "ipython",
    "version": 3
   },
   "file_extension": ".py",
   "mimetype": "text/x-python",
   "name": "python",
   "nbconvert_exporter": "python",
   "pygments_lexer": "ipython3",
   "version": "3.6.8"
  }
 },
 "nbformat": 4,
 "nbformat_minor": 2
}
