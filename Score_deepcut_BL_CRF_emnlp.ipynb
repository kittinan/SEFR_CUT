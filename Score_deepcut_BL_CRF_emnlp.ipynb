{
 "cells": [
  {
   "cell_type": "code",
   "execution_count": 21,
   "metadata": {
    "scrolled": true
   },
   "outputs": [],
   "source": [
    "import warnings\n",
    "warnings.filterwarnings('ignore')\n",
    "import numpy as np\n",
    "import copy as cp\n",
    "import operator\n",
    "import matplotlib.pyplot as plt\n",
    "import random\n",
    "from pythainlp.benchmarks.word_tokenization import benchmark\n",
    "from preprocessing import preprocess #Our class\n",
    "prepro = preprocess()\n",
    "import extract_features\n",
    "from sklearn.metrics import precision_recall_fscore_support\n",
    "import pickle"
   ]
  },
  {
   "cell_type": "code",
   "execution_count": 23,
   "metadata": {},
   "outputs": [],
   "source": [
    "#test_list = ['wisesight']; name = 'ws'; mode = 'train'; crf_v = 'ws1000'\n",
    "test_list = ['wisesight-testset']; name = 'ws'; mode = 'test'; crf_v = 'ws1000'\n",
    "#test_list = ['article','encyclopedia','news','novel']; name = 'best'; mode = 'train' ; crf_v = 'best'\n",
    "#test_list = ['testset']; name = 'best'; mode = 'test'; crf_v = 'best'\n",
    "#test_list = ['tnhc_train']; name = 'tnhc'; mode = 'train'; crf_v = 'tnhc'\n",
    "#test_list = ['tnhc_test']; name = 'tnhc'; mode = 'test'; crf_v = 'tnhc'\n",
    "\n",
    "\n",
    "#x,y_true = prepro.preprocess_x_y(test_list)\n",
    "#y_true = [j for sub in y_true for j in sub if len(j) > 1]\n",
    "#x = [j for sub in x for j in sub if len(j) > 1]\n",
    "\n",
    "y_original = pickle.load(open(f'variable/y.pred.{name}.{mode}.vr', 'rb'))\n",
    "y_entropy_original = pickle.load(open(f'variable/y.entropy.{name}.{mode}.vr', 'rb'))\n",
    "y_prob_original = pickle.load(open(f'variable/y.prob.{name}.{mode}.vr', 'rb'))\n",
    "\n",
    "x = pickle.load(open(f'variable/x.{name}.{mode}.vr', 'rb'))\n",
    "y_true = pickle.load(open(f'variable/y.true.{name}.{mode}.vr', 'rb'))"
   ]
  },
  {
   "cell_type": "code",
   "execution_count": 24,
   "metadata": {},
   "outputs": [],
   "source": [
    "x,y_true = prepro.preprocess_x_y(test_list)\n",
    "# y_true = [j for sub in y_true for j in sub]\n",
    "# x = [j for sub in x for j in sub]\n",
    "y_true = [j for sub in y_true for j in sub if len(j) > 1]\n",
    "x = [j for sub in x for j in sub if len(j) > 1]\n",
    "\n",
    "t1_start = perf_counter()\n",
    "y_original,y_entropy_original,y_prob_original,y_pred,y_entropy,y_ws,y_entropy_ws = prepro.predict_(x,og='true') # DeepCut Baseline/BEST+WS/WS\n",
    "t1_stop = perf_counter()\n",
    "dc_time = t1_stop-t1_start\n"
   ]
  },
  {
   "cell_type": "code",
   "execution_count": 25,
   "metadata": {},
   "outputs": [
    {
     "data": {
      "text/plain": [
       "<contextlib.closing at 0x7f885066a6d8>"
      ]
     },
     "execution_count": 25,
     "metadata": {},
     "output_type": "execute_result"
    }
   ],
   "source": [
    "import pycrfsuite\n",
    "crf_model_og = pycrfsuite.Tagger() \n",
    "crf_model_og.open(f'model/crf_{crf_v}_entropyfrom_dc_bl_full_socialDict.model') # For baseline #Char type performwell on baseline\n",
    "#crf_model_og.open('model/crf_best_entropyfrom_dc_bl_full_socialDict.model')\n",
    "#crf_model_og.open('model/crf_tnhc_entropyfrom_dc_bl_full_SocialDict.model') \n",
    "#crf_model_og.open('model/I_just_want_to_try.model')\n",
    "\n"
   ]
  },
  {
   "cell_type": "code",
   "execution_count": 26,
   "metadata": {},
   "outputs": [],
   "source": [
    "# # with open('model/LR_ws1000_bestmodel.sav', 'rb') as f:  # Python 3: open(..., 'wb')\n",
    "# #     LR_model = pickle.load(f)\n",
    "    \n",
    "# # with open('model/LR_BEST_bestmodel.sav', 'rb') as f:  # Python 3: open(..., 'wb')\n",
    "# #     LR_model = pickle.load(f)\n",
    "    \n",
    "# with open('model/LR_TNHC_bestmodel.sav', 'rb') as f:  # Python 3: open(..., 'wb')\n",
    "#     LR_model = pickle.load(f)"
   ]
  },
  {
   "cell_type": "code",
   "execution_count": 27,
   "metadata": {},
   "outputs": [],
   "source": [
    "def return_max_index(number_ranking,entropy_list):\n",
    "    index_entropy = []\n",
    "    func_entro_list = cp.deepcopy(entropy_list)\n",
    "    ranking_ = int(len(entropy_list)*(number_ranking/100))\n",
    "    #print(f'number we want is : {ranking_}')\n",
    "    for i in range(ranking_):\n",
    "        index, max_num = max(enumerate(func_entro_list), key=operator.itemgetter(1))\n",
    "        func_entro_list[index] = -1.01\n",
    "        index_entropy.append(index)\n",
    "    return index_entropy\n",
    "\n",
    "def scoring_function_crf(y_pred,index,mode='new'):\n",
    "    result = y_pred[:]\n",
    "    for i,items in enumerate(index):\n",
    "        x_data = extract_features.extract_features_crf(x[i],i,y_entropy_original,y_prob_original)\n",
    "        for idx in items:\n",
    "            y_pred_crf = crf_model_og.tag(x_data[idx])\n",
    "            result[i][idx] = int(y_pred_crf[0])\n",
    "    return result\n",
    "\n",
    "def scoring_function_lr(y_pred,index,mode='new'):\n",
    "    result = y_pred[:]\n",
    "    for i,items in enumerate(index):\n",
    "        x_data = extract_features.extract_features_lstm(x[i],i,y_entropy_original,y_prob_original)\n",
    "        for idx in items:\n",
    "            y_pred_crf = LR_model.predict([x_data[idx]])\n",
    "            result[i][idx] = int(y_pred_crf[0])\n",
    "    return result\n",
    "\n",
    "def scoring_function(y_true_,y_pred,index):\n",
    "    result = y_pred[:]\n",
    "    for idx,items in enumerate(index):\n",
    "        for idx_item in items:\n",
    "            try:\n",
    "                result[idx][idx_item] = y_true_[idx][idx_item]\n",
    "            except:\n",
    "                print(f'random:{idx},{idx_item} result:{len(result)},{len(result[idx])} y_true:{len(y_true)},{len(y_true[idx])}')\n",
    "    return result\n"
   ]
  },
  {
   "cell_type": "code",
   "execution_count": 28,
   "metadata": {},
   "outputs": [],
   "source": [
    "def cut(y_pred_boolean,x_data):\n",
    "    x_ = cp.deepcopy(x_data)\n",
    "    answer = []\n",
    "    for idx,items in enumerate(y_pred_boolean):\n",
    "        text = \"\"\n",
    "        for index,item in enumerate(items):\n",
    "            if(item == 1):\n",
    "                text +='|'\n",
    "            text +=x_[idx][index]\n",
    "        answer.append(text)\n",
    "    return answer \n",
    "\n",
    "def eval_function(y_true,y_pred):\n",
    "    f1_score_entropy=[]; \n",
    "    for index,_ in enumerate(y_pred):\n",
    "        precision, recall, fscore, _ = precision_recall_fscore_support(y_true[index], y_pred[index], average='binary')\n",
    "        #print(f'Precision:{precision}, Recall:{recall}, F1:{fscore}')\n",
    "        f1_score_entropy.append(fscore)\n",
    "    return np.mean(f1_score_entropy)"
   ]
  },
  {
   "cell_type": "code",
   "execution_count": 11,
   "metadata": {},
   "outputs": [],
   "source": [
    "def score_(K_num=60,start=10,step=10):\n",
    "    K_num+=step\n",
    "    f1_original = []\n",
    "    f1_crf_og=[]\n",
    "    time_efficiency = []\n",
    "    f1_hypothesis=[]\n",
    "    y_true_data = [j for sub in y_true for j in sub]\n",
    "    y_original_data = [j for sub in y_original for j in sub]\n",
    "    for K in range(start,K_num,step):\n",
    "        #print(f'Now K:{K}')\n",
    "        #t1_start = perf_counter()  \n",
    "        #start = time.time()\n",
    "        entropy_index_og = [return_max_index(K,value) for value in y_entropy_original] # Find entropy index from DC Baseline\n",
    "        \n",
    "        \n",
    "        answer_crf_original = scoring_function_crf(cp.deepcopy(y_original),entropy_index_og,mode='og') # CRF+DC(BEST+WS)\n",
    "        #answer_crf_original = scoring_function_lr(cp.deepcopy(y_original),entropy_index_og,mode='og')\n",
    "        \n",
    "        y_test_data = [j for sub in answer_crf_original for j in sub]\n",
    "        \n",
    "        \n",
    "        f1_original.append(eval_function([y_true_data],[y_original_data])) # F1 DeepCut(Baseline)\n",
    "        f1_crf_og.append(eval_function([y_true_data],[y_test_data]))# F1 CRF+DeepCut(Baseline)\n",
    "        \n",
    "        #t1_stop = perf_counter() \n",
    "        #end = time.time()\n",
    "        #time_efficiency.append(t1_stop-t1_start+dc_time)\n",
    "        #time_efficiency.append(t1_stop-t1_start)\n",
    "        answer = scoring_function(y_true,cp.deepcopy(y_original),entropy_index_og)\n",
    "        f1_hypothesis.append(eval_function(y_true,answer))\n",
    "        #time_efficiency.append(end-start)\n",
    "        #print(time_efficiency)\n",
    "        \n",
    "    #%matplotlib notebook\n",
    "    fig = plt.figure()\n",
    "\n",
    "    ax = fig.add_subplot(111)\n",
    "    ax.set_xlabel('K percentage candidate',fontsize=18,fontname='Times New Roman')\n",
    "    ax.set_ylabel('F1 Score Character level',fontsize=18,fontname='Times New Roman')\n",
    "    #ax.plot(range(start,K_num,step),f1_hypothesis,c=\"r\",marker='o',label='Best case')\n",
    "    \n",
    "    ax.plot(range(start,K_num,step),f1_original,c=\"k\",label='DeepCut')\n",
    "    ax.plot(range(start,K_num,step),f1_crf_og,c=\"g\",marker='v',label='SE+DeepCut')\n",
    "    \n",
    "    ax.legend(loc='center right')\n",
    "    #ax.legend()\n",
    "    plt.show()\n",
    "    #fig.savefig('f1_score_tnhc.eps', format='eps')\n",
    "    \n",
    "#     fig = plt.figure()\n",
    "#     ax = fig.add_subplot(111)\n",
    "#     ax.set_xlabel('K percentile',fontsize=18,fontname='Times New Roman')\n",
    "#     ax.set_ylabel('Time (s)',fontsize=18,fontname='Times New Roman')\n",
    "    #dc_time_array = np.full((len(range(start,K_num,step)),), dc_time)\n",
    "    \n",
    "    #ax.bar(range(start,K_num,step),dc_time_array,label='DeepCut',color='y', height=5)\n",
    "    #ax.bar(range(start,K_num,step),time_efficiency,left=dc_time,label='SE+DC',color='g',height=5)\n",
    "    #ax.bar(range(start,K_num,step),time_efficiency,width=4,label='Stacked Ensemble',color='k')\n",
    "    #print('f1',f1_crf_og)\n",
    "    #print('time',time_efficiency)\n",
    "    #ax.legend(loc='lower left', bbox_to_anchor=(0., 1.02, 1., .102),ncol=2, mode=\"expand\", borderaxespad=0.)\n",
    "    #ax.legend(loc='upper left')\n",
    "    #plt.show()\n",
    "    #fig.savefig('running_time_tnhc.eps', format='eps')\n",
    "    return f1_original,f1_crf_og,time_efficiency\n"
   ]
  },
  {
   "cell_type": "code",
   "execution_count": 12,
   "metadata": {},
   "outputs": [
    {
     "data": {
      "image/png": "[encoded data removed]",
      "text/plain": [
       "<Figure size 432x288 with 1 Axes>"
      ]
     },
     "metadata": {
      "needs_background": "light"
     },
     "output_type": "display_data"
    }
   ],
   "source": [
    "K_num = 100\n",
    "start = 10\n",
    "step = 10\n",
    "f1_original,f1_crf_og,time_efficiency = score_(K_num=K_num,start=start,step=step)\n"
   ]
  },
  {
   "cell_type": "code",
   "execution_count": 11,
   "metadata": {
    "scrolled": true
   },
   "outputs": [
    {
     "name": "stdout",
     "output_type": "stream",
     "text": [
      "BL:0.93471\n",
      "K:10 CRF_BL:0.9454771 better than:1.0765\n",
      "K:20 CRF_BL:0.9480342 better than:1.3322\n",
      "K:30 CRF_BL:0.9494473 better than:1.4735\n",
      "K:40 CRF_BL:0.9502611 better than:1.5549\n",
      "K:50 CRF_BL:0.9507463 better than:1.6034\n",
      "K:60 CRF_BL:0.9508645 better than:1.6152\n",
      "K:70 CRF_BL:0.9509950 better than:1.6283\n",
      "K:80 CRF_BL:0.9509950 better than:1.6283\n",
      "K:90 CRF_BL:0.9509950 better than:1.6283\n",
      "K:100 CRF_BL:0.9517053 better than:1.6993\n",
      "index og:100 \n"
     ]
    }
   ],
   "source": [
    "max_gap_og = (f1_crf_og[0]-f1_original[0])*100\n",
    "index_max_og = start\n",
    "print(f\"BL:{f1_original[0]:.5f}\")\n",
    "for idx,_ in enumerate(f1_crf_og):\n",
    "    new_max_og = (f1_crf_og[idx]-f1_original[idx])*100\n",
    "    index_now = start+(idx*step)\n",
    "\n",
    "    if max_gap_og < new_max_og:\n",
    "        max_gap_og = new_max_og\n",
    "        index_max_og = index_now     \n",
    "    \n",
    "    print(f\"K:{index_now} CRF_BL:{f1_crf_og[idx]:.7f} better than:{new_max_og:.4f}\")\n",
    "#print(f\" CRF_NEWBL:{f1_crf_newbase[index_max-1]:.5f} CRF_BL:{f1_crf_og[index_max_og-1]:.5f}\")    \n",
    "print(f'index og:{index_max_og} ')\n",
    "#print(f'index new baseline:{index_max} index og:{index_max_og}')\n"
   ]
  },
  {
   "cell_type": "markdown",
   "metadata": {},
   "source": [
    "<h1>Change to final answer"
   ]
  },
  {
   "cell_type": "code",
   "execution_count": 29,
   "metadata": {},
   "outputs": [],
   "source": [
    "def change_answer(entropy_y,y_deepcut,K_num,mode):\n",
    "    entropy_index = [return_max_index(K_num,value) for value in entropy_y]\n",
    "    answer_crf = scoring_function_crf(cp.deepcopy(y_deepcut),entropy_index,mode=mode)\n",
    "    #answer_crf = scoring_function_lr(cp.deepcopy(y_deepcut),entropy_index,mode=mode)\n",
    "    return answer_crf"
   ]
  },
  {
   "cell_type": "code",
   "execution_count": 30,
   "metadata": {},
   "outputs": [],
   "source": [
    "# new og ws\n",
    "y_pred_CRF_baseline = change_answer(y_entropy_original,y_original,K_num=100,mode='og') # set k to the best k value\n"
   ]
  },
  {
   "cell_type": "code",
   "execution_count": 31,
   "metadata": {},
   "outputs": [
    {
     "name": "stdout",
     "output_type": "stream",
     "text": [
      "Char Score: 0.9517052526761265\n",
      "Word Score: 0.8686618847390553\n"
     ]
    }
   ],
   "source": [
    "y_true_data = [j for sub in y_true for j in sub]\n",
    "y_original_data = [j for sub in y_original for j in sub]\n",
    "y_pred_CRF_baseline = [j for sub in y_pred_CRF_baseline for j in sub]\n",
    "x_data = ''\n",
    "for item in x:\n",
    "    x_data+=item\n",
    "    \n",
    "dc_pred = [y_original_data]\n",
    "dc_pred = cut(dc_pred,[x_data])\n",
    "true_pred = [y_true_data]\n",
    "true_pred = cut(true_pred,[x_data])\n",
    "crf_pred = [y_pred_CRF_baseline]\n",
    "crf_pred = cut(crf_pred,[x_data])\n",
    "\n",
    "from itertools import accumulate\n",
    "import operator\n",
    "\n",
    "def evaluate(train : list, test: list) -> tuple:\n",
    "    train_acc = list(accumulate(map(len, train), func = operator.add))\n",
    "    test_acc = list(accumulate(map(len, test), func = operator.add))\n",
    "    train_set = set(zip([0,*train_acc], train_acc))\n",
    "    test_set = set(zip([0,*test_acc], test_acc))\n",
    "    correct = len(train_set & test_set)\n",
    "    pre = correct/len(test)\n",
    "    re = correct/len(test)\n",
    "    f1 = (2*pre*re)/(pre+re)\n",
    "    return f1\n",
    "\n",
    "dc_list = dc_pred[0].split('|')\n",
    "true_list = true_pred[0].split('|')\n",
    "crf_list = crf_pred[0].split('|')\n",
    "print('Char Score:',eval_function([y_true_data],[y_pred_CRF_baseline]))\n",
    "#print('Baseline:',evaluate(true_list,dc_list))\n",
    "print('Word Score:',evaluate(true_list,crf_list))\n"
   ]
  },
  {
   "cell_type": "code",
   "execution_count": 38,
   "metadata": {},
   "outputs": [],
   "source": [
    "dg_correct = 0; dg_wrong = 0; ds_correct = 0; ds_wrong = 0;\n",
    "for idx,val in enumerate(y_true_data):\n",
    "    if y_original_data[idx] == val:\n",
    "        dg_correct +=1\n",
    "    else:\n",
    "        dg_wrong +=1\n",
    "    if y_pred_CRF_baseline[idx] == val:\n",
    "        ds_correct +=1\n",
    "    else:\n",
    "        ds_wrong +=1"
   ]
  },
  {
   "cell_type": "code",
   "execution_count": 47,
   "metadata": {},
   "outputs": [
    {
     "name": "stdout",
     "output_type": "stream",
     "text": [
      "All data:13529\n",
      "DG correct:13005DS correct:13141\n",
      "DG wrong:524\tDS wrong:388\n"
     ]
    }
   ],
   "source": [
    "print(f'All data:{len(y_true_data)}')\n",
    "print(f'DG correct:{dg_correct}DS correct:{ds_correct}')\n",
    "print(f'DG wrong:{dg_wrong}\\tDS wrong:{ds_wrong}')"
   ]
  },
  {
   "cell_type": "markdown",
   "metadata": {},
   "source": [
    "<h1> Back-up"
   ]
  },
  {
   "cell_type": "code",
   "execution_count": 17,
   "metadata": {},
   "outputs": [],
   "source": [
    "# def list2word(l):\n",
    "# \tdata = []\n",
    "# \ttemp = \"\"\n",
    "# \tfor i,c in enumerate(l):\n",
    "# \t\tif (c == 1 and i>0):\n",
    "# \t\t\tdata.append(temp)\n",
    "# \t\t\ttemp = \"\"\n",
    "# \t\ttemp += str(c)\n",
    "# \t\tif i==len(l)-1:\n",
    "# \t\t\tdata.append(temp)\n",
    "# \treturn data\n",
    "\n",
    "# def correct2(y_true,y_pred):\n",
    "#     l_true = list2word(y_true)\n",
    "#     l_pred = list2word(y_pred)\n",
    "#     #print(l_true)\n",
    "#     #print(l_pred)\n",
    "#     correct = []\n",
    "#     char_index = 0\n",
    "#     for i,w in enumerate(l_pred):\n",
    "#         #print(w)\n",
    "#         if w in l_true:\n",
    "#             if (y_true[char_index]+y_pred[char_index]==2 and y_true[char_index:char_index+len(w)-1]==y_pred[char_index:char_index+len(w)-1]): # ถ้า index char เป็น 1 ทั้งค่าจริงและทำนาย และ ถ้า list word นั้นเหมือนกันทั้งค่าจริงและทำนาย\n",
    "#                 correct.append(w)\n",
    "#         char_index+=len(w)\n",
    "#     num_correct = len(correct)\n",
    "#     precision = num_correct/len(l_pred)\n",
    "#     recall = num_correct/len(l_true)\n",
    "#     #print(precision,recall,correct)\n",
    "#     try:\n",
    "#         f1 = 2*precision*recall / (precision + recall)\n",
    "#     except ZeroDivisionError:\n",
    "#         f1=0.0\n",
    "#     return precision,recall,f1\n"
   ]
  },
  {
   "cell_type": "code",
   "execution_count": 18,
   "metadata": {},
   "outputs": [],
   "source": [
    "# y_true_data = [j for sub in y_true for j in sub]\n",
    "# y_original_data = [j for sub in y_original for j in sub]"
   ]
  },
  {
   "cell_type": "code",
   "execution_count": 19,
   "metadata": {},
   "outputs": [],
   "source": [
    "# f1,pre,re = correct2(y_true_data,y_original_data)\n",
    "# f1_list = [f1]; pre_list = [pre]; re_list = [re]\n",
    "# for k in range(10,110,10):\n",
    "#     y_pred_CRF_baseline = change_answer(y_entropy_original,y_original,K_num=k,mode='og')\n",
    "#     y_pred_CRF_baseline = [j for sub in y_pred_CRF_baseline for j in sub]\n",
    "#     pre,re,f1 = correct2(y_true_data,y_pred_CRF_baseline)\n",
    "#     f1_list.append(f1)\n",
    "#     pre_list.append(pre)\n",
    "#     re_list.append(re)"
   ]
  },
  {
   "cell_type": "code",
   "execution_count": 20,
   "metadata": {},
   "outputs": [
    {
     "data": {
      "text/plain": [
       "[0.8839861179970253,\n",
       " 0.9083023543990086,\n",
       " 0.9120674686841127,\n",
       " 0.913178487144454,\n",
       " 0.913454364585924,\n",
       " 0.914179104477612,\n",
       " 0.9142928224903595,\n",
       " 0.9144278606965174,\n",
       " 0.9144278606965174,\n",
       " 0.9144278606965174,\n",
       " 0.9151107791884492]"
      ]
     },
     "execution_count": 20,
     "metadata": {},
     "output_type": "execute_result"
    }
   ],
   "source": [
    "f1_list"
   ]
  },
  {
   "cell_type": "code",
   "execution_count": 19,
   "metadata": {},
   "outputs": [
    {
     "data": {
      "image/png": "[encoded data removed]",
      "text/plain": [
       "<Figure size 432x288 with 1 Axes>"
      ]
     },
     "metadata": {
      "needs_background": "light"
     },
     "output_type": "display_data"
    }
   ],
   "source": [
    "fig = plt.figure()\n",
    "\n",
    "ax = fig.add_subplot(111)\n",
    "ax.set_xlabel('K percentage candidate',fontsize=18,fontname='Times New Roman')\n",
    "ax.set_ylabel('Score',fontsize=18,fontname='Times New Roman')\n",
    "\n",
    "ax.plot(range(0,110,10),f1_list,c=\"k\",marker='v',label='F1')\n",
    "ax.plot(range(0,110,10),pre_list,c=\"c\",marker='o',label='Pre')\n",
    "ax.plot(range(0,110,10),re_list,c=\"b\",marker='*',label='Re')\n",
    "ax.legend(loc='bottom right')\n",
    "#ax.legend()\n",
    "plt.show()"
   ]
  },
  {
   "cell_type": "code",
   "execution_count": 62,
   "metadata": {},
   "outputs": [
    {
     "data": {
      "text/plain": [
       "{'precision': 0.8240605273352932,\n",
       " 'recall': 0.7545594163947015,\n",
       " 'f1': 0.7877800265348494}"
      ]
     },
     "execution_count": 62,
     "metadata": {},
     "output_type": "execute_result"
    }
   ],
   "source": [
    "correct2(y_true_data,y_pred_CRF_baseline)"
   ]
  },
  {
   "cell_type": "code",
   "execution_count": 63,
   "metadata": {},
   "outputs": [
    {
     "data": {
      "text/plain": [
       "{'precision': 0.8229459122349473,\n",
       " 'recall': 0.7572136853439282,\n",
       " 'f1': 0.788712618645523}"
      ]
     },
     "execution_count": 63,
     "metadata": {},
     "output_type": "execute_result"
    }
   ],
   "source": [
    "correct2(y_true_data,y_original_data)"
   ]
  },
  {
   "cell_type": "code",
   "execution_count": 17,
   "metadata": {},
   "outputs": [
    {
     "name": "stdout",
     "output_type": "stream",
     "text": [
      "TNHC corpus\n",
      "Correct->Wrong:13260 Wrong->Correct:30407\n",
      "Correct->Correct:829845 Wrong->Wrong:18012\n"
     ]
    }
   ],
   "source": [
    "# correct2wrong = 0\n",
    "# wrong2correct = 0\n",
    "# wrong2wrong = 0\n",
    "# correct2correct = 0\n",
    "# for idx,item in enumerate(y_true):\n",
    "#     for index,_ in enumerate(item):\n",
    "#         if y_true[idx][index] == y_original[idx][index] and y_original[idx][index] != y_pred_CRF_baseline[idx][index]:\n",
    "#             correct2wrong+=1\n",
    "#         elif y_true[idx][index] != y_original[idx][index] and y_true[idx][index] == y_pred_CRF_baseline[idx][index]:\n",
    "#             wrong2correct+=1\n",
    "#         elif y_true[idx][index] != y_original[idx][index] and y_true[idx][index] != y_pred_CRF_baseline[idx][index]:\n",
    "#             wrong2wrong+=1\n",
    "#         elif y_true[idx][index] == y_original[idx][index] and y_true[idx][index] == y_pred_CRF_baseline[idx][index]:\n",
    "#             correct2correct+=1\n",
    "# print('TNHC corpus')\n",
    "# print(f\"Correct->Wrong:{correct2wrong} Wrong->Correct:{wrong2correct}\")\n",
    "# print(f\"Correct->Correct:{correct2correct} Wrong->Wrong:{wrong2wrong}\")"
   ]
  },
  {
   "cell_type": "code",
   "execution_count": 25,
   "metadata": {},
   "outputs": [],
   "source": [
    "x_true = cut(y_true,x) # actual result !\n",
    "\n",
    "x_original = cut(y_original,x) # result DeepCut(Baseline)\n",
    "\n",
    "x_crf_og = cut(y_pred_CRF_baseline,x) # result CRF+DeepCut(BEST+WiseSight) with the best k !"
   ]
  },
  {
   "cell_type": "markdown",
   "metadata": {},
   "source": [
    "<h1>Result comparison"
   ]
  },
  {
   "cell_type": "code",
   "execution_count": 23,
   "metadata": {},
   "outputs": [
    {
     "data": {
      "text/plain": [
       "'แพงเว่อร์ เบียร์ช้างต้นทุนขวดละไม่ถึง 50 ขาย 120 😰😰😰์'"
      ]
     },
     "execution_count": 23,
     "metadata": {},
     "output_type": "execute_result"
    }
   ],
   "source": [
    "text='|แพง|เว่อร์| |เบียร์|ช้าง|ต้นทุน|ขวด|ละ|ไม่|ถึง| |50| |ขาย| |120| |😰|😰|😰์'.replace('|','')\n",
    "text"
   ]
  },
  {
   "cell_type": "code",
   "execution_count": 76,
   "metadata": {},
   "outputs": [
    {
     "name": "stdout",
     "output_type": "stream",
     "text": [
      "Acutal\n",
      "|หา|น้ำ|กิน| |#|ข่าว|ว่า|พรุ่ง|นี้|ภาษี|ขึ้น| |#|beer| |#|ubeer| |#|golf_eat_alot\n",
      "DeepCut\n",
      "|หา|น้ำกิน| |#|ข่าว|ว่า|พรุ่ง|นี้|ภาษี|ขึ้น| |#beer| #ubeer #golf_eat_alot\n",
      "SE+DeepCut\n",
      "|หา|น้ำกิน| |#|ข่าว|ว่า|พรุ่ง|นี้|ภาษี|ขึ้น| |#|beer| |#|ubeer| |#|golf_eat_alot\n",
      "###########################################\n"
     ]
    }
   ],
   "source": [
    "i=59\n",
    "#print(f'text\\n{x[i].replace('|','')}')\n",
    "print(f'Acutal\\n{x_true[i]}')\n",
    "print(f'DeepCut\\n{x_original[i]}')\n",
    "print(f'SE+DeepCut\\n{x_crf_og[i]}')\n",
    "print(f'###########################################')"
   ]
  },
  {
   "cell_type": "code",
   "execution_count": 79,
   "metadata": {},
   "outputs": [
    {
     "name": "stdout",
     "output_type": "stream",
     "text": [
      "Acutal\n",
      "|มาสด้า| |ซีเอ็กซ์-3| |สนุก|กัน|อีก|สัก|ดอก\n",
      "DeepCut\n",
      "|มาสด้า ซีเอ็กซ์|-|3| |สนุก|กัน|อีก|สัก|ดอก\n",
      "SE+DeepCut\n",
      "|มาสด้า| |ซีเอ็กซ์-|3| |สนุก|กัน|อีก|สัก|ดอก\n",
      "###########################################\n"
     ]
    }
   ],
   "source": [
    "i=61\n",
    "#print(f'text\\n{x[i].replace('|','')}')\n",
    "print(f'Acutal\\n{x_true[i]}')\n",
    "print(f'DeepCut\\n{x_original[i]}')\n",
    "print(f'SE+DeepCut\\n{x_crf_og[i]}')\n",
    "print(f'###########################################')"
   ]
  },
  {
   "cell_type": "code",
   "execution_count": 100,
   "metadata": {},
   "outputs": [
    {
     "name": "stdout",
     "output_type": "stream",
     "text": [
      "Acutal\n",
      "|เมื่อ|วาน|ชานม|ไข่มุก|ก็|อร่อย| |วันนี้|รุ่น|พี่|ก็|อร่อย| |//|สูด|กาว|วาด|ไม่|ทัน|แล้ว| |#|เต็นสิค\n",
      "DeepCut\n",
      "|เมื่อ|วานชาน|ม|ไข่|มุก|ก็|อร่อย| |วัน|นี้|รุ่น|พี่|ก็|อร่อย| |/|/|สูด|กาววาด|ไม่|ทัน|แล้ว| |#เต็น|สิค\n",
      "SE+DeepCut\n",
      "|เมื่อ|วาน|ชานม|ไข่|มุก|ก็|อร่อย| |วัน|นี้|รุ่น|พี่|ก็|อร่อย| |//|สูด|กาววาด|ไม่|ทัน|แล้ว| |#|เต็น|สิค\n",
      "###########################################\n"
     ]
    }
   ],
   "source": [
    "i=81\n",
    "#print(f'text\\n{x[i].replace('|','')}')\n",
    "print(f'Acutal\\n{x_true[i]}')\n",
    "print(f'DeepCut\\n{x_original[i]}')\n",
    "print(f'SE+DeepCut\\n{x_crf_og[i]}')\n",
    "print(f'###########################################')"
   ]
  },
  {
   "cell_type": "code",
   "execution_count": 102,
   "metadata": {},
   "outputs": [
    {
     "name": "stdout",
     "output_type": "stream",
     "text": [
      "Acutal\n",
      "|เคเอฟซี| |บาร์บีกอน\n",
      "DeepCut\n",
      "|เคเอฟซี บาร์บีกอน\n",
      "SE+DeepCut\n",
      "|เคเอฟซี| |บาร์บีกอน\n",
      "###########################################\n"
     ]
    }
   ],
   "source": [
    "i=83\n",
    "#print(f'text\\n{x[i].replace('|','')}')\n",
    "print(f'Acutal\\n{x_true[i]}')\n",
    "print(f'DeepCut\\n{x_original[i]}')\n",
    "print(f'SE+DeepCut\\n{x_crf_og[i]}')\n",
    "print(f'###########################################')"
   ]
  },
  {
   "cell_type": "code",
   "execution_count": 110,
   "metadata": {},
   "outputs": [
    {
     "name": "stdout",
     "output_type": "stream",
     "text": [
      "Acutal\n",
      "|เห้ย|น่า|ไป|ๆ|ๆ| |จิบ|เบียร์|ฟัง|ดนตรี| |งาน|ดี|ๆ|แบบ|นี้|ต้อง|ไม่|พลาด| #|chang\n",
      "DeepCut\n",
      "|เห้ยน่า|ไป|ๆ|ๆ| |จิบ|เบียร์|ฟัง|ดนตรี| |งาน|ดี|ๆ|แบบ|นี้|ต้อง|ไม่|พลาด| |#chang\n",
      "SE+DeepCut\n",
      "|เห้ย|น่า|ไป|ๆ|ๆ| |จิบ|เบียร์|ฟัง|ดนตรี| |งาน|ดี|ๆ|แบบ|นี้|ต้อง|ไม่|พลาด| |#|chang\n",
      "###########################################\n"
     ]
    }
   ],
   "source": [
    "i=91\n",
    "#print(f'text\\n{x[i].replace('|','')}')\n",
    "print(f'Acutal\\n{x_true[i]}')\n",
    "print(f'DeepCut\\n{x_original[i]}')\n",
    "print(f'SE+DeepCut\\n{x_crf_og[i]}')\n",
    "print(f'###########################################')"
   ]
  },
  {
   "cell_type": "code",
   "execution_count": 22,
   "metadata": {},
   "outputs": [],
   "source": [
    "text = x_true[100]"
   ]
  },
  {
   "cell_type": "code",
   "execution_count": 24,
   "metadata": {},
   "outputs": [
    {
     "data": {
      "text/plain": [
       "'ชอบ Honda Civic เพราะมันคล่องตัวและกว้างเหมาะกับการใช้งาน Eveeve Eve แกไปดูกะชั้นนะ #ฮอนด้าที่รัก #EnjoyHondaThailand'"
      ]
     },
     "execution_count": 24,
     "metadata": {},
     "output_type": "execute_result"
    }
   ],
   "source": [
    "text.replace('|','')"
   ]
  },
  {
   "cell_type": "code",
   "execution_count": 21,
   "metadata": {},
   "outputs": [
    {
     "ename": "SyntaxError",
     "evalue": "f-string: mismatched '(', '{', or '[' (<ipython-input-21-cbfe3131e17b>, line 3)",
     "output_type": "error",
     "traceback": [
      "\u001b[0;36m  File \u001b[0;32m\"<ipython-input-21-cbfe3131e17b>\"\u001b[0;36m, line \u001b[0;32m3\u001b[0m\n\u001b[0;31m    print(f'Acutal\\n{x_true[i].replace('|','')}')\u001b[0m\n\u001b[0m         ^\u001b[0m\n\u001b[0;31mSyntaxError\u001b[0m\u001b[0;31m:\u001b[0m f-string: mismatched '(', '{', or '['\n"
     ]
    }
   ],
   "source": [
    "i=100\n",
    "#print(f'text\\n{x[i].replace('|','')}')\n",
    "print(f'Acutal\\n{x_true[i].replace('|','')}')\n",
    "print(f'DeepCut\\n{x_original[i]}')\n",
    "print(f'SE+DeepCut\\n{x_crf_og[i]}')\n",
    "print(f'###########################################')"
   ]
  },
  {
   "cell_type": "markdown",
   "metadata": {},
   "source": [
    "<h1>Create corpus"
   ]
  },
  {
   "cell_type": "code",
   "execution_count": null,
   "metadata": {},
   "outputs": [],
   "source": [
    "# import pandas as pd\n",
    "# y_pred_df = cp.deepcopy(y_original)"
   ]
  },
  {
   "cell_type": "code",
   "execution_count": null,
   "metadata": {},
   "outputs": [],
   "source": [
    "# data = []\n",
    "# for index,items in enumerate(y_true):\n",
    "#     for idx,item in enumerate(items):\n",
    "#         #if y_true[index][idx] != y_pred_2[index][idx] and x[index][idx] != '\\n':\n",
    "#         if x[index][idx] not in ['\\n','\\r\\n','\\r']:\n",
    "#             text = ''\n",
    "#             if idx < 4:\n",
    "#                 for _ in range(4-idx):\n",
    "#                     text += ' '\n",
    "#                 text += x[index][:idx+3]\n",
    "#             else:\n",
    "#                 text = x[index][idx-4:idx+3]\n",
    "#             if(len(text)<7):\n",
    "#                 for _ in range(7-len(text)):\n",
    "#                     text += ' '\n",
    "#             #print(f\"index:{index,idx} true:{y_true[index][idx]} pred:{y_pred_2[index][idx]} #entropy:{y_entropy[index][idx]} char:{x[index][idx]} sequence:{x[index][idx-5:idx+7]}\")\n",
    "#             data.append([text,y_entropy_original[index][idx],y_true[index][idx],y_pred_df[index][idx]]) \n",
    "            "
   ]
  },
  {
   "cell_type": "code",
   "execution_count": null,
   "metadata": {},
   "outputs": [],
   "source": [
    "# df = pd.DataFrame(data,columns =['Char_sequence', 'Entropy','true_pred','pred']) \n",
    "# df = df.dropna()\n",
    "# df"
   ]
  },
  {
   "cell_type": "code",
   "execution_count": null,
   "metadata": {},
   "outputs": [],
   "source": [
    "#df.to_csv('corpus/ws1000_entropy_deepcut_bl_entropy_mul2.csv',index=False)"
   ]
  },
  {
   "cell_type": "code",
   "execution_count": 8,
   "metadata": {},
   "outputs": [],
   "source": [
    "import pandas as pd\n",
    "y_pred_df = cp.deepcopy(y_original)"
   ]
  },
  {
   "cell_type": "code",
   "execution_count": 9,
   "metadata": {},
   "outputs": [],
   "source": [
    "data = []\n",
    "for index,items in enumerate(y_true):\n",
    "    for idx,item in enumerate(items):\n",
    "        #if y_true[index][idx] != y_pred_2[index][idx] and x[index][idx] != '\\n':\n",
    "        if x[index][idx] not in ['\\n','\\r\\n','\\r']:\n",
    "            text = x[index][:idx]+f\"[{x[index][idx]}]\"+x[index][idx+1:idx+20]\n",
    "            #print(f\"index:{index,idx} true:{y_true[index][idx]} pred:{y_pred_2[index][idx]} #entropy:{y_entropy[index][idx]} char:{x[index][idx]} sequence:{x[index][idx-5:idx+7]}\")\n",
    "            data.append([text,y_entropy_original[index][idx],'WS160',y_true[index][idx],y_pred_df[index][idx]]) \n",
    "            "
   ]
  },
  {
   "cell_type": "code",
   "execution_count": 11,
   "metadata": {},
   "outputs": [
    {
     "data": {
      "text/html": [
       "<div>\n",
       "<style scoped>\n",
       "    .dataframe tbody tr th:only-of-type {\n",
       "        vertical-align: middle;\n",
       "    }\n",
       "\n",
       "    .dataframe tbody tr th {\n",
       "        vertical-align: top;\n",
       "    }\n",
       "\n",
       "    .dataframe thead th {\n",
       "        text-align: right;\n",
       "    }\n",
       "</style>\n",
       "<table border=\"1\" class=\"dataframe\">\n",
       "  <thead>\n",
       "    <tr style=\"text-align: right;\">\n",
       "      <th></th>\n",
       "      <th>Sentence</th>\n",
       "      <th>Entropy</th>\n",
       "      <th>Corpus</th>\n",
       "      <th>Actual</th>\n",
       "      <th>Predic</th>\n",
       "    </tr>\n",
       "  </thead>\n",
       "  <tbody>\n",
       "    <tr>\n",
       "      <th>0</th>\n",
       "      <td>[E]ucerin pro acne ค่ะ</td>\n",
       "      <td>0.000210</td>\n",
       "      <td>WS160</td>\n",
       "      <td>1</td>\n",
       "      <td>1</td>\n",
       "    </tr>\n",
       "    <tr>\n",
       "      <th>1</th>\n",
       "      <td>E[u]cerin pro acne ค่ะ</td>\n",
       "      <td>0.000000</td>\n",
       "      <td>WS160</td>\n",
       "      <td>0</td>\n",
       "      <td>0</td>\n",
       "    </tr>\n",
       "    <tr>\n",
       "      <th>2</th>\n",
       "      <td>Eu[c]erin pro acne ค่ะ ใ</td>\n",
       "      <td>0.000000</td>\n",
       "      <td>WS160</td>\n",
       "      <td>0</td>\n",
       "      <td>0</td>\n",
       "    </tr>\n",
       "    <tr>\n",
       "      <th>3</th>\n",
       "      <td>Euc[e]rin pro acne ค่ะ ใช</td>\n",
       "      <td>0.000000</td>\n",
       "      <td>WS160</td>\n",
       "      <td>0</td>\n",
       "      <td>0</td>\n",
       "    </tr>\n",
       "    <tr>\n",
       "      <th>4</th>\n",
       "      <td>Euce[r]in pro acne ค่ะ ใช้</td>\n",
       "      <td>0.000096</td>\n",
       "      <td>WS160</td>\n",
       "      <td>0</td>\n",
       "      <td>0</td>\n",
       "    </tr>\n",
       "    <tr>\n",
       "      <th>...</th>\n",
       "      <td>...</td>\n",
       "      <td>...</td>\n",
       "      <td>...</td>\n",
       "      <td>...</td>\n",
       "      <td>...</td>\n",
       "    </tr>\n",
       "    <tr>\n",
       "      <th>13524</th>\n",
       "      <td>อยากกิงบาบีก้อนบุฟอีกอ่ะ ทำไมมันยังไม่บุฟ คิดถ...</td>\n",
       "      <td>0.000000</td>\n",
       "      <td>WS160</td>\n",
       "      <td>0</td>\n",
       "      <td>0</td>\n",
       "    </tr>\n",
       "    <tr>\n",
       "      <th>13525</th>\n",
       "      <td>อยากกิงบาบีก้อนบุฟอีกอ่ะ ทำไมมันยังไม่บุฟ คิดถ...</td>\n",
       "      <td>0.000000</td>\n",
       "      <td>WS160</td>\n",
       "      <td>0</td>\n",
       "      <td>0</td>\n",
       "    </tr>\n",
       "    <tr>\n",
       "      <th>13526</th>\n",
       "      <td>อยากกิงบาบีก้อนบุฟอีกอ่ะ ทำไมมันยังไม่บุฟ คิดถ...</td>\n",
       "      <td>0.406927</td>\n",
       "      <td>WS160</td>\n",
       "      <td>1</td>\n",
       "      <td>1</td>\n",
       "    </tr>\n",
       "    <tr>\n",
       "      <th>13527</th>\n",
       "      <td>อยากกิงบาบีก้อนบุฟอีกอ่ะ ทำไมมันยังไม่บุฟ คิดถ...</td>\n",
       "      <td>0.000000</td>\n",
       "      <td>WS160</td>\n",
       "      <td>0</td>\n",
       "      <td>0</td>\n",
       "    </tr>\n",
       "    <tr>\n",
       "      <th>13528</th>\n",
       "      <td>อยากกิงบาบีก้อนบุฟอีกอ่ะ ทำไมมันยังไม่บุฟ คิดถ...</td>\n",
       "      <td>0.000000</td>\n",
       "      <td>WS160</td>\n",
       "      <td>0</td>\n",
       "      <td>0</td>\n",
       "    </tr>\n",
       "  </tbody>\n",
       "</table>\n",
       "<p>13529 rows × 5 columns</p>\n",
       "</div>"
      ],
      "text/plain": [
       "                                                Sentence   Entropy Corpus  \\\n",
       "0                                 [E]ucerin pro acne ค่ะ  0.000210  WS160   \n",
       "1                                E[u]cerin pro acne ค่ะ   0.000000  WS160   \n",
       "2                               Eu[c]erin pro acne ค่ะ ใ  0.000000  WS160   \n",
       "3                              Euc[e]rin pro acne ค่ะ ใช  0.000000  WS160   \n",
       "4                             Euce[r]in pro acne ค่ะ ใช้  0.000096  WS160   \n",
       "...                                                  ...       ...    ...   \n",
       "13524  อยากกิงบาบีก้อนบุฟอีกอ่ะ ทำไมมันยังไม่บุฟ คิดถ...  0.000000  WS160   \n",
       "13525  อยากกิงบาบีก้อนบุฟอีกอ่ะ ทำไมมันยังไม่บุฟ คิดถ...  0.000000  WS160   \n",
       "13526  อยากกิงบาบีก้อนบุฟอีกอ่ะ ทำไมมันยังไม่บุฟ คิดถ...  0.406927  WS160   \n",
       "13527  อยากกิงบาบีก้อนบุฟอีกอ่ะ ทำไมมันยังไม่บุฟ คิดถ...  0.000000  WS160   \n",
       "13528  อยากกิงบาบีก้อนบุฟอีกอ่ะ ทำไมมันยังไม่บุฟ คิดถ...  0.000000  WS160   \n",
       "\n",
       "       Actual  Predic  \n",
       "0           1       1  \n",
       "1           0       0  \n",
       "2           0       0  \n",
       "3           0       0  \n",
       "4           0       0  \n",
       "...       ...     ...  \n",
       "13524       0       0  \n",
       "13525       0       0  \n",
       "13526       1       1  \n",
       "13527       0       0  \n",
       "13528       0       0  \n",
       "\n",
       "[13529 rows x 5 columns]"
      ]
     },
     "execution_count": 11,
     "metadata": {},
     "output_type": "execute_result"
    }
   ],
   "source": [
    "df = pd.DataFrame(data,columns =['Sentence', 'Entropy','Corpus','Actual','Predic']) \n",
    "df = df.dropna()\n",
    "df"
   ]
  },
  {
   "cell_type": "code",
   "execution_count": 12,
   "metadata": {},
   "outputs": [],
   "source": [
    "df.to_csv('corpus/ws160_comparison_corpus_only.csv',index=False)"
   ]
  },
  {
   "cell_type": "code",
   "execution_count": null,
   "metadata": {},
   "outputs": [],
   "source": []
  }
 ],
 "metadata": {
  "kernelspec": {
   "display_name": "Python 3",
   "language": "python",
   "name": "python3"
  },
  "language_info": {
   "codemirror_mode": {
    "name": "ipython",
    "version": 3
   },
   "file_extension": ".py",
   "mimetype": "text/x-python",
   "name": "python",
   "nbconvert_exporter": "python",
   "pygments_lexer": "ipython3",
   "version": "3.6.8"
  }
 },
 "nbformat": 4,
 "nbformat_minor": 2
}
