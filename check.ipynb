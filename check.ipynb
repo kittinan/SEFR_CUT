{
 "cells": [
  {
   "cell_type": "code",
   "execution_count": 3,
   "metadata": {},
   "outputs": [],
   "source": [
    "from itertools import accumulate\n",
    "import operator\n",
    "\n",
    "\"\"\"\n",
    "Compare two lists of string and return their confusion matrix values\n",
    "(True positive, False positive, False negative) respectively.\n",
    "For example,\n",
    "train = ['one', 'simply', 'looks', 'up', 'the', 'previously']\n",
    "test = ['o', 'ne', 'simply', 'loo', 'ksu', 'p', 'the', 'previou', 'sly' ]\n",
    "return (len(['simply','the']),\n",
    "        len(['one','looks','up','previously'],\n",
    "        len(['o','ne','loo','ksu','p','previou','sly']),\n",
    "        len([]))\n",
    "\"\"\"\n",
    "\n",
    "def evaluate(train : list, test: list) -> tuple:\n",
    "    train_acc = list(accumulate(map(len, train), func = operator.add))\n",
    "    test_acc = list(accumulate(map(len, test), func = operator.add))\n",
    "    train_set = set(zip([0,*train_acc], train_acc))\n",
    "    test_set = set(zip([0,*test_acc], test_acc))\n",
    "    return tuple(map(len,(train_set & test_set, train_set - test_set, test_set - train_set)))"
   ]
  },
  {
   "cell_type": "code",
   "execution_count": 4,
   "metadata": {},
   "outputs": [],
   "source": [
    "from os import walk, listdir\n",
    "from collections import defaultdict"
   ]
  },
  {
   "cell_type": "code",
   "execution_count": null,
   "metadata": {},
   "outputs": [],
   "source": [
    "y_"
   ]
  },
  {
   "cell_type": "code",
   "execution_count": 4,
   "metadata": {},
   "outputs": [],
   "source": [
    "train_path = '/Users/nattapolv/Desktop/gold/'\n",
    "test_path = '/Users/nattapolv/Desktop/test/'\n",
    "for *_, files in walk(train_path):\n",
    "    for file in files:\n",
    "        with open(train_path+file,encoding='utf-8') as f_train:\n",
    "            train_text = f_train.read()\n",
    "        with open(test_path+file,encoding='utf-8') as f_test:\n",
    "            test_text = f_test.read()\n",
    "        test_list = test_text.split('|')[1:]\n",
    "        train_list = train_text.split('|')\n",
    "        result[file] = evaluate(train_list,test_list)\n",
    "        f_train.close()\n",
    "        f_test.close()"
   ]
  },
  {
   "cell_type": "code",
   "execution_count": 5,
   "metadata": {},
   "outputs": [
    {
     "data": {
      "text/plain": [
       "defaultdict(tuple,\n",
       "            {'news_00073.txt': (30715, 312, 362),\n",
       "             'news_00067.txt': (14718, 140, 159),\n",
       "             'news_00066.txt': (20052, 239, 256),\n",
       "             'news_00072.txt': (19011, 197, 226),\n",
       "             'news_00058.txt': (15586, 201, 195),\n",
       "             'news_00064.txt': (18748, 195, 190),\n",
       "             'news_00070.txt': (14473, 158, 191),\n",
       "             'news_00071.txt': (25616, 284, 332),\n",
       "             'news_00065.txt': (19303, 240, 231),\n",
       "             'news_00059.txt': (18286, 219, 248),\n",
       "             'news_00061.txt': (17646, 245, 253),\n",
       "             'news_00075.txt': (29563, 285, 299),\n",
       "             'news_00049.txt': (12516, 164, 211),\n",
       "             'news_00048.txt': (18232, 174, 200),\n",
       "             'news_00074.txt': (18392, 212, 275),\n",
       "             'news_00060.txt': (20221, 219, 262),\n",
       "             'news_00076.txt': (21602, 288, 315),\n",
       "             'news_00062.txt': (17687, 182, 212),\n",
       "             'news_00089.txt': (17165, 176, 206),\n",
       "             'news_00088.txt': (14603, 197, 203),\n",
       "             'news_00063.txt': (13312, 189, 188),\n",
       "             'news_00077.txt': (30759, 339, 376),\n",
       "             'news_00038.txt': (12297, 222, 231),\n",
       "             'news_00010.txt': (14469, 149, 174),\n",
       "             'news_00004.txt': (10447, 161, 232),\n",
       "             'news_00005.txt': (7383, 110, 133),\n",
       "             'news_00011.txt': (17029, 206, 246),\n",
       "             'news_00039.txt': (15938, 189, 216),\n",
       "             'news_00007.txt': (15834, 279, 341),\n",
       "             'news_00013.txt': (12516, 168, 190),\n",
       "             'news_00012.txt': (12965, 283, 299),\n",
       "             'news_00006.txt': (16459, 333, 402),\n",
       "             'news_00002.txt': (11826, 157, 209),\n",
       "             'news_00016.txt': (12639, 155, 186),\n",
       "             'news_00017.txt': (15016, 210, 224),\n",
       "             'news_00003.txt': (17642, 271, 382),\n",
       "             'news_00015.txt': (15267, 244, 280),\n",
       "             'news_00001.txt': (12650, 149, 206),\n",
       "             'news_00029.txt': (21290, 325, 300),\n",
       "             'news_00028.txt': (21133, 349, 324),\n",
       "             'news_00014.txt': (15233, 200, 208),\n",
       "             'news_00019.txt': (13917, 228, 259),\n",
       "             'news_00031.txt': (19835, 365, 403),\n",
       "             'news_00025.txt': (21518, 307, 390),\n",
       "             'news_00024.txt': (19332, 369, 370),\n",
       "             'news_00030.txt': (19802, 359, 361),\n",
       "             'news_00018.txt': (16318, 302, 304),\n",
       "             'news_00026.txt': (22323, 314, 365),\n",
       "             'news_00032.txt': (18339, 281, 337),\n",
       "             'news_00033.txt': (19435, 285, 359),\n",
       "             'news_00027.txt': (16317, 222, 244),\n",
       "             'news_00023.txt': (14907, 281, 325),\n",
       "             'news_00037.txt': (16452, 316, 383),\n",
       "             'news_00036.txt': (19036, 337, 365),\n",
       "             'news_00022.txt': (16215, 297, 348),\n",
       "             'news_00034.txt': (18378, 273, 317),\n",
       "             'news_00020.txt': (15515, 310, 283),\n",
       "             'news_00008.txt': (12520, 192, 226),\n",
       "             'news_00009.txt': (13229, 169, 248),\n",
       "             'news_00021.txt': (16653, 261, 298),\n",
       "             'news_00035.txt': (15505, 243, 260),\n",
       "             'news_00052.txt': (19734, 223, 247),\n",
       "             'news_00046.txt': (13870, 244, 262),\n",
       "             'news_00091.txt': (16591, 196, 178),\n",
       "             'news_00085.txt': (16302, 206, 223),\n",
       "             'news_00084.txt': (14675, 203, 189),\n",
       "             'news_00090.txt': (12208, 185, 180),\n",
       "             'news_00047.txt': (16129, 165, 191),\n",
       "             'news_00053.txt': (16998, 206, 239),\n",
       "             'news_00079.txt': (17629, 215, 239),\n",
       "             'news_00045.txt': (15910, 242, 244),\n",
       "             'news_00051.txt': (18611, 208, 231),\n",
       "             'news_00086.txt': (18958, 183, 180),\n",
       "             'news_00092.txt': (11243, 166, 149),\n",
       "             'news_00093.txt': (13689, 179, 177),\n",
       "             'news_00087.txt': (18009, 174, 191),\n",
       "             'news_00050.txt': (22368, 267, 261),\n",
       "             'news_00044.txt': (17153, 348, 358),\n",
       "             'news_00078.txt': (28791, 338, 400),\n",
       "             'news_00040.txt': (13770, 219, 232),\n",
       "             'news_00054.txt': (16412, 185, 205),\n",
       "             'news_00068.txt': (17046, 226, 220),\n",
       "             'news_00083.txt': (15077, 173, 175),\n",
       "             'news_00096.txt': (18199, 199, 171),\n",
       "             'news_00082.txt': (15819, 173, 164),\n",
       "             'news_00069.txt': (15232, 187, 200),\n",
       "             'news_00055.txt': (15779, 158, 179),\n",
       "             'news_00041.txt': (13088, 153, 160),\n",
       "             'news_00057.txt': (13716, 146, 154),\n",
       "             'news_00043.txt': (15123, 181, 218),\n",
       "             'news_00094.txt': (16755, 202, 234),\n",
       "             'news_00080.txt': (15904, 125, 141),\n",
       "             'news_00081.txt': (18862, 226, 236),\n",
       "             'news_00095.txt': (20869, 237, 235),\n",
       "             'news_00042.txt': (16835, 180, 199),\n",
       "             'news_00056.txt': (19700, 210, 249)})"
      ]
     },
     "execution_count": 5,
     "metadata": {},
     "output_type": "execute_result"
    }
   ],
   "source": [
    "result"
   ]
  },
  {
   "cell_type": "code",
   "execution_count": 7,
   "metadata": {},
   "outputs": [],
   "source": [
    "train = ['one', 'simply', 'looks', 'up', 'the', 'previously']\n",
    "test = ['o', 'ne', 'simply', 'loo', 'ksu', 'p', 'the', 'previou', 'sly']"
   ]
  },
  {
   "cell_type": "code",
   "execution_count": null,
   "metadata": {},
   "outputs": [],
   "source": []
  }
 ],
 "metadata": {
  "kernelspec": {
   "display_name": "Python 3",
   "language": "python",
   "name": "python3"
  },
  "language_info": {
   "codemirror_mode": {
    "name": "ipython",
    "version": 3
   },
   "file_extension": ".py",
   "mimetype": "text/x-python",
   "name": "python",
   "nbconvert_exporter": "python",
   "pygments_lexer": "ipython3",
   "version": "3.6.9"
  }
 },
 "nbformat": 4,
 "nbformat_minor": 2
}
