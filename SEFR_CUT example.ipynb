{
 "cells": [
  {
   "cell_type": "code",
   "execution_count": 3,
   "metadata": {},
   "outputs": [
    {
     "name": "stdout",
     "output_type": "stream",
     "text": [
      "loading model.....\n",
      "Success\n"
     ]
    }
   ],
   "source": [
    "import SEFR_CUT\n",
    "SEFR_CUT.load_model(engine='deepcut')"
   ]
  },
  {
   "cell_type": "code",
   "execution_count": 4,
   "metadata": {},
   "outputs": [
    {
     "name": "stdout",
     "output_type": "stream",
     "text": [
      "[['สวัสดี', 'ประเทศไทย'], ['ลุงตู่', 'สู้', 'ๆ']]\n",
      "[['สวัสดี', 'ประเทศไทย']]\n",
      "[['สวัสดี', 'ประเทศไทย']]\n"
     ]
    }
   ],
   "source": [
    "print(SEFR_CUT.tokenize(['สวัสดีประเทศไทย','ลุงตู่สู้ๆ']))\n",
    "print(SEFR_CUT.tokenize(['สวัสดีประเทศไทย']))\n",
    "print(SEFR_CUT.tokenize('สวัสดีประเทศไทย'))"
   ]
  },
  {
   "cell_type": "code",
   "execution_count": null,
   "metadata": {},
   "outputs": [],
   "source": []
  }
 ],
 "metadata": {
  "kernelspec": {
   "display_name": "Python 3",
   "language": "python",
   "name": "python3"
  },
  "language_info": {
   "codemirror_mode": {
    "name": "ipython",
    "version": 3
   },
   "file_extension": ".py",
   "mimetype": "text/x-python",
   "name": "python",
   "nbconvert_exporter": "python",
   "pygments_lexer": "ipython3",
   "version": "3.6.8"
  }
 },
 "nbformat": 4,
 "nbformat_minor": 2
}
